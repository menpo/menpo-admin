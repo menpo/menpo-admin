{
 "cells": [
  {
   "cell_type": "markdown",
   "metadata": {},
   "source": [
    "For this to work you'll need to have the travis CLI installed and have already run login."
   ]
  },
  {
   "cell_type": "code",
   "execution_count": null,
   "metadata": {
    "collapsed": false
   },
   "outputs": [],
   "source": [
    "import os\n",
    "import subprocess\n",
    "from functools import partial\n",
    "from utils import travis_op, appveyor_op, apply_to_all_projects, replace_str\n",
    "\n",
    "working_dir = '/home/jab08/_bump_condaci'\n",
    "\n",
    "new_av_enc_key = 'tsajM8eklrwmWI6OdAEKi3FMqIUXUCHS45rPJZ3bwO25PRWi5onvLdsNMk+8vYRS'\n",
    "old_av_env_key = 'mw1Fz5a5C0lT4CXzsOCADoo/Xa9YymZI3yjVZNR8f5GwYrVAOC2YXxyEG6NaSWZY'\n",
    "\n",
    "new_key_secure = 'NOT_A_CHANCE'\n",
    "\n",
    "replace_version = partial(replace_str, old_av_env_key, new_av_enc_key)\n",
    "appveyor_v = partial(travis_op, replace_version)\n",
    "travis_v = partial(appveyor_op, replace_version)\n",
    "\n",
    "def bump_repo(repo_dir, restart_travis=False):\n",
    "    os.chdir(repo_dir)\n",
    "    if appveyor_v(repo_dir):\n",
    "        print('bumped {}'.format(repo_dir))\n",
    "        print(subprocess.check_output(['git', 'commit', '-am', 'bump appveyor anaconda key']))\n",
    "        print(subprocess.check_output(['git', 'push', 'origin', 'master']))\n",
    "    print(subprocess.check_output(['travis', 'env', 'set', 'BINSTAR_KEY', new_key_secure]))\n",
    "    if restart_travis:\n",
    "        print(subprocess.check_output(['travis', 'restart']))"
   ]
  },
  {
   "cell_type": "code",
   "execution_count": null,
   "metadata": {
    "collapsed": false
   },
   "outputs": [],
   "source": [
    "apply_to_all_projects(working_dir, bump_repo)"
   ]
  }
 ],
 "metadata": {
  "kernelspec": {
   "display_name": "Python 2",
   "language": "python",
   "name": "python2"
  },
  "language_info": {
   "codemirror_mode": {
    "name": "ipython",
    "version": 2
   },
   "file_extension": ".py",
   "mimetype": "text/x-python",
   "name": "python",
   "nbconvert_exporter": "python",
   "pygments_lexer": "ipython2",
   "version": "2.7.10"
  }
 },
 "nbformat": 4,
 "nbformat_minor": 0
}
