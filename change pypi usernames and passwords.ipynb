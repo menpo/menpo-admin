{
 "cells": [
  {
   "cell_type": "markdown",
   "metadata": {},
   "source": [
    "For this to work you'll need to have the travis CLI installed and have already run login (cd to a menpo dir before running login for auto magic)\n",
    "```\n",
    "> sudo gem install travis\n",
    "```"
   ]
  },
  {
   "cell_type": "code",
   "execution_count": null,
   "metadata": {
    "collapsed": false
   },
   "outputs": [],
   "source": [
    "import os\n",
    "import subprocess\n",
    "from utils import apply_to_all_projects\n",
    "\n",
    "working_dir = '~/_change_pypi_usernames'\n",
    "PYPI_USER = 'not a chance'\n",
    "PYPI_PASSWORD = 'not a chance'\n",
    "PYPI_TEST_USER = 'not a chance'\n",
    "PYPI_TEST_PASSWORD = 'not a chance'\n",
    "\n",
    "def bump_repo(repo_dir, restart_travis=False):\n",
    "    os.chdir(repo_dir)\n",
    "    print(subprocess.check_output(['travis', 'env', 'set', 'PYPI_USER', PYPI_USER]))\n",
    "    print(subprocess.check_output(['travis', 'env', 'set', 'PYPI_PASSWORD', PYPI_PASSWORD]))\n",
    "    print(subprocess.check_output(['travis', 'env', 'set', 'PYPI_TEST_USER', PYPI_TEST_USER]))\n",
    "    print(subprocess.check_output(['travis', 'env', 'set', 'PYPI_TEST_PASSWORD', PYPI_TEST_PASSWORD]))\n",
    "    if restart_travis:\n",
    "        print(subprocess.check_output(['travis', 'restart']))"
   ]
  },
  {
   "cell_type": "code",
   "execution_count": null,
   "metadata": {
    "collapsed": false
   },
   "outputs": [],
   "source": [
    "apply_to_all_projects(working_dir, bump_repo)"
   ]
  }
 ],
 "metadata": {
  "anaconda-cloud": {},
  "kernelspec": {
   "display_name": "Python [default]",
   "language": "python",
   "name": "python3"
  },
  "language_info": {
   "codemirror_mode": {
    "name": "ipython",
    "version": 3
   },
   "file_extension": ".py",
   "mimetype": "text/x-python",
   "name": "python",
   "nbconvert_exporter": "python",
   "pygments_lexer": "ipython3",
   "version": "3.5.2"
  }
 },
 "nbformat": 4,
 "nbformat_minor": 0
}
