{
 "cells": [
  {
   "cell_type": "code",
   "execution_count": null,
   "metadata": {
    "collapsed": false
   },
   "outputs": [],
   "source": [
    "import os\n",
    "import subprocess\n",
    "from functools import partial\n",
    "from utils import travis_op, appveyor_op, apply_to_all_projects\n",
    "\n",
    "v = '0.4.6'\n",
    "working_dir = '/home/jab08/_bump_condaci'\n",
    "CONDACI_URL_START = 'https://raw.githubusercontent.com/menpo/condaci/v'\n",
    "        \n",
    "def replace_version_in_str(v, string):\n",
    "    before, after = string.split(CONDACI_URL_START)\n",
    "    before += CONDACI_URL_START\n",
    "\n",
    "    old_v, after = after.split('/', 1)\n",
    "    after = '/' + after\n",
    "    return before + v + after\n",
    "\n",
    "replace_version = partial(replace_version_in_str, v)\n",
    "appveyor_v = partial(travis_op, replace_version)\n",
    "travis_v = partial(appveyor_op, replace_version)\n",
    "\n",
    "def bump_repo(repo_dir):\n",
    "    os.chdir(repo_dir)\n",
    "    if appveyor_v(repo_dir) or travis_v(repo_dir):\n",
    "        print(subprocess.check_output(['git', 'commit', '-am', 'bump condaci to {}'.format(v)]))\n",
    "        print(subprocess.check_output(['git', 'push', 'origin', 'master']))\n",
    "    else:\n",
    "        print('{} is already up to date'.format(repo_dir))"
   ]
  },
  {
   "cell_type": "code",
   "execution_count": null,
   "metadata": {
    "collapsed": false
   },
   "outputs": [],
   "source": [
    "apply_to_all_projects(working_dir, bump_repo)"
   ]
  }
 ],
 "metadata": {
  "kernelspec": {
   "display_name": "Python 2",
   "language": "python",
   "name": "python2"
  },
  "language_info": {
   "codemirror_mode": {
    "name": "ipython",
    "version": 2
   },
   "file_extension": ".py",
   "mimetype": "text/x-python",
   "name": "python",
   "nbconvert_exporter": "python",
   "pygments_lexer": "ipython2",
   "version": "2.7.10"
  }
 },
 "nbformat": 4,
 "nbformat_minor": 0
}
