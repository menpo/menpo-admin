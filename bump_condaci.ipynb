{
 "cells": [
  {
   "cell_type": "code",
   "execution_count": null,
   "metadata": {
    "collapsed": false
   },
   "outputs": [],
   "source": [
    "import os\n",
    "import subprocess\n",
    "from functools import partial\n",
    "from utils import travis_op, appveyor_op, apply_to_all_projects\n",
    "\n",
    "v = '0.4.x'\n",
    "working_dir = '/Users/jab08/_bump_condaci'\n",
    "CONDACI_URL_START = 'https://raw.githubusercontent.com/menpo/condaci/v'\n",
    "        \n",
    "def replace_version_in_str(v, string):\n",
    "    before, after = string.split(CONDACI_URL_START)\n",
    "    before += CONDACI_URL_START\n",
    "\n",
    "    old_v, after = after.split('/', 1)\n",
    "    after = '/' + after\n",
    "    return before + v + after\n",
    "\n",
    "replace_version = partial(replace_version_in_str, v)\n",
    "travis_bump_v = partial(travis_op, replace_version)\n",
    "appveyor_bump_v = partial(appveyor_op, replace_version)\n",
    "\n",
    "def bump_repo(repo_dir):\n",
    "    os.chdir(repo_dir)\n",
    "    did_bump_appveyor = appveyor_bump_v(repo_dir)\n",
    "    did_bump_travis = travis_bump_v(repo_dir)\n",
    "    if did_bump_travis or did_bump_appveyor:\n",
    "        print(subprocess.check_output(['git', 'commit', '-am', 'bump condaci to {}'.format(v)]))\n",
    "        print(subprocess.check_output(['git', 'push', 'origin', 'master']))\n",
    "    else:\n",
    "        print('{} is already up to date'.format(repo_dir))"
   ]
  },
  {
   "cell_type": "code",
   "execution_count": null,
   "metadata": {
    "collapsed": false,
    "scrolled": false
   },
   "outputs": [],
   "source": [
    "apply_to_all_projects(working_dir, bump_repo)"
   ]
  }
 ],
 "metadata": {
  "kernelspec": {
   "display_name": "Python 2",
   "language": "python",
   "name": "python2"
  },
  "language_info": {
   "codemirror_mode": {
    "name": "ipython",
    "version": 2
   },
   "file_extension": ".py",
   "mimetype": "text/x-python",
   "name": "python",
   "nbconvert_exporter": "python",
   "pygments_lexer": "ipython2",
   "version": "2.7.11"
  }
 },
 "nbformat": 4,
 "nbformat_minor": 0
}
