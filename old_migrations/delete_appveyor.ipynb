{
 "cells": [
  {
   "cell_type": "code",
   "execution_count": null,
   "metadata": {
    "collapsed": false
   },
   "outputs": [],
   "source": [
    "import os\n",
    "import os.path\n",
    "import subprocess\n",
    "from functools import partial\n",
    "from utils import apply_to_all_projects\n",
    "\n",
    "working_dir = '/Users/jab08/_bump_condaci'\n",
    "\n",
    "def remove_appveyor(repo_dir):\n",
    "    os.chdir(repo_dir)\n",
    "    if os.path.exists('appveyor.yml'):\n",
    "        print(subprocess.check_output(['git', 'rm', 'appveyor.yml']))\n",
    "        print(subprocess.check_output(['git', 'commit', '-am', 'remove appveyor.yml (move to Windows Jenkins)']))\n",
    "        print(subprocess.check_output(['git', 'push', 'origin', 'master']))"
   ]
  },
  {
   "cell_type": "code",
   "execution_count": null,
   "metadata": {
    "collapsed": false
   },
   "outputs": [],
   "source": [
    "apply_to_all_projects(working_dir, remove_appveyor)"
   ]
  }
 ],
 "metadata": {
  "kernelspec": {
   "display_name": "Python 2",
   "language": "python",
   "name": "python2"
  },
  "language_info": {
   "codemirror_mode": {
    "name": "ipython",
    "version": 2
   },
   "file_extension": ".py",
   "mimetype": "text/x-python",
   "name": "python",
   "nbconvert_exporter": "python",
   "pygments_lexer": "ipython2",
   "version": "2.7.11"
  }
 },
 "nbformat": 4,
 "nbformat_minor": 0
}
