{
 "cells": [
  {
   "cell_type": "code",
   "execution_count": null,
   "metadata": {
    "collapsed": false
   },
   "outputs": [],
   "source": [
    "import requests\n",
    "from requests.auth import HTTPBasicAuth\n",
    "AUTH = HTTPBasicAuth('USERNAME_HERE', 'PERSONAL_ACCESS_TOKEN_HERE')\n",
    "from utils import PROJECT_NAMES\n",
    "    \n",
    "def hooks_url(project):\n",
    "    return 'https://api.github.com/repos/menpo/{}/hooks'.format(project)\n",
    "\n",
    "\n",
    "def get_hooks(project):\n",
    "    return requests.get(hooks_url(project), auth=AUTH).json()\n",
    "\n",
    "\n",
    "def is_jenkins_hook(hook):\n",
    "    try:\n",
    "        return 'jenkins.menpo.org' in hook['config']['url']\n",
    "    except KeyError:\n",
    "        return False\n",
    "\n",
    "    \n",
    "def get_jenkins_hooks(project):\n",
    "    return list(filter(is_jenkins_hook, get_hooks(project)))\n",
    "\n",
    "\n",
    "def delete_hook(hook):\n",
    "    response = requests.delete(hook['url'], auth=AUTH)\n",
    "    if response.status_code != 204:\n",
    "        raise ValueError('Failed to delete hook', response)\n",
    "    else:\n",
    "        return response\n",
    "    \n",
    "    \n",
    "def create_hook(project, hook_spec):\n",
    "    response = requests.post(hooks_url(project), \n",
    "                             json=hook_spec, auth=AUTH)\n",
    "    if response.status_code != 201:\n",
    "        raise ValueError('Failed to create hook', response)\n",
    "    else:\n",
    "        return response\n",
    "    \n",
    "DEFAULT_NON_PR_WEBHOOK = {\n",
    "  \"name\": \"web\",\n",
    "  \"active\": True,\n",
    "  \"events\": [\n",
    "    \"push\",\n",
    "    \"repository\"\n",
    "  ],\n",
    "  \"config\": {\n",
    "    \"url\": \"https://jenkins.menpo.org/github-webhook/\",\n",
    "  }\n",
    "}  \n",
    "\n",
    "\n",
    "DEFAULT_PR_WEBHOOK = {\n",
    "  \"name\": \"web\",\n",
    "  \"active\": True,\n",
    "  \"events\": [\n",
    "    \"issue_comment\",\n",
    "    \"pull_request\"\n",
    "  ],\n",
    "  \"config\": {\n",
    "    \"url\": \"https://jenkins.menpo.org/ghprbhook/\",\n",
    "  }\n",
    "}\n",
    "\n",
    "def create_jenkins_hooks(project):\n",
    "    create_hook(project, DEFAULT_NON_PR_WEBHOOK)\n",
    "    create_hook(project, DEFAULT_PR_WEBHOOK)"
   ]
  },
  {
   "cell_type": "code",
   "execution_count": null,
   "metadata": {
    "collapsed": false
   },
   "outputs": [],
   "source": [
    "def remove_all_jenkins_hooks(projects):\n",
    "    print('Pruning jenkins hooks...')\n",
    "    for project in projects:\n",
    "        print('Cleaning {}...'.format(project))\n",
    "        try:\n",
    "            j_hooks = get_jenkins_hooks(project)\n",
    "            print('  {} jenkins hooks found'.format(len(j_hooks)))\n",
    "            for j_hook in j_hooks:\n",
    "                print('   - Deleting {}'.format(j_hook['id']))\n",
    "                delete_hook(j_hook)\n",
    "        except Exception as e:\n",
    "            print(\"Error: couldn't clean Jenkins hooks for {}\".format(project))\n",
    "            print(e)\n",
    "            \n",
    "\n",
    "def create_all_jenkins_hooks(projects):\n",
    "    print('Create all jenkins hooks...')\n",
    "    for project in projects:\n",
    "        print('Creating {}...'.format(project))\n",
    "        try:\n",
    "            create_jenkins_hooks(project)\n",
    "        except Exception as e:\n",
    "            print(\"Error: couldn't create Jenkins hooks for {}\".format(project))\n",
    "            print(e)\n",
    "\n",
    "            \n",
    "def check_all_jenkins_hooks(projects):\n",
    "    print('Checking jenkins hooks...')\n",
    "    for project in projects:\n",
    "        try:\n",
    "            j_hooks = get_jenkins_hooks(project)\n",
    "            if len(j_hooks) != 2:\n",
    "                print('{} has {} jenkins hooks'.format(project, len(j_hooks)))\n",
    "            else:\n",
    "                print('{} is fine'.format(project))\n",
    "        except Exception as e:\n",
    "            print(\"Error: couldn't check Jenkins hooks for {}\".format(project))\n",
    "            print(e)"
   ]
  },
  {
   "cell_type": "code",
   "execution_count": null,
   "metadata": {
    "collapsed": false,
    "scrolled": true
   },
   "outputs": [],
   "source": [
    "remove_all_jenkins_hooks(PROJECT_NAMES)"
   ]
  },
  {
   "cell_type": "code",
   "execution_count": null,
   "metadata": {
    "collapsed": false
   },
   "outputs": [],
   "source": [
    "create_all_jenkins_hooks(PROJECT_NAMES)"
   ]
  },
  {
   "cell_type": "code",
   "execution_count": null,
   "metadata": {
    "collapsed": false
   },
   "outputs": [],
   "source": [
    "check_all_jenkins_hooks(PROJECT_NAMES)"
   ]
  }
 ],
 "metadata": {
  "kernelspec": {
   "display_name": "Python 2",
   "language": "python",
   "name": "python2"
  },
  "language_info": {
   "codemirror_mode": {
    "name": "ipython",
    "version": 2
   },
   "file_extension": ".py",
   "mimetype": "text/x-python",
   "name": "python",
   "nbconvert_exporter": "python",
   "pygments_lexer": "ipython2",
   "version": "2.7.11"
  }
 },
 "nbformat": 4,
 "nbformat_minor": 0
}
