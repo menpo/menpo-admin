{
 "cells": [
  {
   "cell_type": "markdown",
   "metadata": {},
   "source": [
    "Jenkins Configuration Notebook\n",
    "==============================\n",
    "\n",
    "This notebook should be used to update the Jenkins configuration for the Menpo project en-masse. It works by completing three template projects with the state that changes between projects - namely, the name of the project (and hence the github URL) and the Python versions that need to be built.\n",
    "\n",
    "Dependencies\n",
    "------------\n",
    "\n",
    "- java\n",
    "- an internet connection (no SSH tunnel etc required!)"
   ]
  },
  {
   "cell_type": "code",
   "execution_count": null,
   "metadata": {
    "collapsed": true
   },
   "outputs": [],
   "source": [
    "# set your jenkins credentials here - and do not commit them!!\n",
    "USERNAME = 'yourusername'\n",
    "PASSWORD = 'yourpassword'"
   ]
  },
  {
   "cell_type": "code",
   "execution_count": null,
   "metadata": {
    "collapsed": false
   },
   "outputs": [],
   "source": [
    "def copy_and_yield(fsrc, fdst, length=1024*1024):\n",
    "    \"\"\"copy data from file-like object fsrc to file-like object fdst\"\"\"\n",
    "    while 1:\n",
    "        buf = fsrc.read(length)\n",
    "        if not buf:\n",
    "            break\n",
    "        fdst.write(buf)\n",
    "        yield\n",
    "    \n",
    "def download_file(url, dest_path):\n",
    "    try:\n",
    "        from urllib2 import urlopen  # Py2\n",
    "    except ImportError:\n",
    "        from urllib.request import urlopen  # Py3\n",
    "    req = urlopen(url)\n",
    "    with open(str(dest_path), 'wb') as fp:\n",
    "        for _ in copy_and_yield(req, fp):\n",
    "            pass\n",
    "    req.close()\n",
    "\n",
    "# downlad the CLI file for use\n",
    "download_file('http://jenkins.menpo.org/jnlpJars/jenkins-cli.jar', 'jenkins-cli.jar')"
   ]
  },
  {
   "cell_type": "code",
   "execution_count": null,
   "metadata": {
    "collapsed": false
   },
   "outputs": [],
   "source": [
    "from subprocess import check_output, Popen, PIPE, STDOUT, CalledProcessError\n",
    "from functools import partial\n",
    "from collections import namedtuple\n",
    "\n",
    "Project = namedtuple('Project', ['name', 'versions'])\n",
    "\n",
    "T_OFF = '<disabled>true</disabled>'\n",
    "T_ON = '<disabled>false</disabled>'\n",
    "T_VERSIONS = '<string>@PYTHON_VERSIONS@</string>\\n'\n",
    "T_NAME = '@PROJECT_NAME@'\n",
    "\n",
    "PROJECTS = [Project(*x) for x in\n",
    "            [('menpo', (2, 34, 35)),\n",
    "             ('menpofit', (2, 34, 35)),\n",
    "             ('menpodetect', (2, 34, 35)),\n",
    "             ('menpo3d', (2,)),\n",
    "             ('menpobench', (2,)),\n",
    "             ('menpocli', (2, 34, 35)),\n",
    "             ('landmarkerio-server', (2,)),\n",
    "             ('cyassimp', (2, 34, 35)),\n",
    "             ('cyrasterize', (2, 34, 35)),\n",
    "             ('cyvlfeat', (2, 34, 35)),\n",
    "             ('cyffld2', (2, 34, 35)),\n",
    "             ('cypico', (2, 34, 35)),\n",
    "             ('conda-dlib', (2, 34, 35)),\n",
    "             ('conda-boost', (2, 34, 35)),\n",
    "             ('conda-joblib', (2, 34, 35)),\n",
    "             ('conda-enum',  (2,)),\n",
    "             ('conda-flann', (2,)),\n",
    "             ('conda-cherrypy', (2, 34, 35)),\n",
    "             ('conda-pathlib', (2,)),\n",
    "             ('conda-eigen', (2,)),\n",
    "             ('vrml97', (2,))]]\n",
    "\n",
    "VERSION_TO_STR = {k: '<string>{}</string>\\n        '.format(v) for k, v in \n",
    "                  {2: '2.7', 34: '3.4', 35: '3.5'}.items()}\n",
    "\n",
    "JENKINS_CMD = ['java', '-jar', 'jenkins-cli.jar', '-s', 'http://jenkins.menpo.org']\n",
    "AUTH = [\n",
    "    '--username', USERNAME,\n",
    "    '--password', PASSWORD\n",
    "]\n",
    "\n",
    "cmd_for_args = lambda args: JENKINS_CMD + list(args) + AUTH\n",
    "\n",
    "    \n",
    "def jcall(*args):\n",
    "    try:\n",
    "        return check_output(cmd_for_args(args)).decode()\n",
    "    except CalledProcessError as e:\n",
    "        print(e.returncode)\n",
    "        print(e.output)\n",
    "\n",
    "\n",
    "def jinput(stdin, cmd):\n",
    "    p = Popen(cmd_for_args(cmd), stdout=PIPE, stdin=PIPE, stderr=STDOUT)\n",
    "    try:\n",
    "        return p.communicate(input=stdin.encode())[0].decode()\n",
    "    except CalledProcessError as e:\n",
    "        print(e.returncode)\n",
    "        print(e.output)\n",
    "\n",
    "def fill_template(t, name, versions):\n",
    "    return t.replace(T_NAME, name).replace(T_VERSIONS, versions).replace(T_OFF, T_ON)\n",
    "\n",
    "\n",
    "get_job = partial(jcall, 'get-job')\n",
    "create_job = lambda name, job: jinput(job, ['create-job', name])\n",
    "update_job = lambda name, job: jinput(job, ['update-job', name])"
   ]
  },
  {
   "cell_type": "code",
   "execution_count": null,
   "metadata": {
    "collapsed": false
   },
   "outputs": [],
   "source": [
    "# Check we are successfully logged in:\n",
    "print(jcall('who-am-i'))"
   ]
  },
  {
   "cell_type": "code",
   "execution_count": null,
   "metadata": {
    "collapsed": false
   },
   "outputs": [],
   "source": [
    "print('acquiring templates...')\n",
    "T = get_job('TEMPLATE')\n",
    "T_PR = get_job('TEMPLATE-pr')\n",
    "T_TAG = get_job('TEMPLATE-tag')\n",
    "SUFFIX_TO_TEMPLATE = {'': T, '-pr': T_PR, '-tag': T_TAG}\n",
    "print('done.')\n",
    "print('acquiring current jobs...')\n",
    "JOBS = set(x for x in jcall('list-jobs').split('\\n') if not x == '')\n",
    "print('done.')"
   ]
  },
  {
   "cell_type": "code",
   "execution_count": null,
   "metadata": {
    "collapsed": false,
    "scrolled": true
   },
   "outputs": [],
   "source": [
    "for p in PROJECTS:\n",
    "    versions = ' '.join([VERSION_TO_STR[v] for v in p.versions])\n",
    "    for suffix, template in SUFFIX_TO_TEMPLATE.items():\n",
    "        job = fill_template(template, p.name, versions)\n",
    "        job_name = p.name + suffix\n",
    "        if job_name in JOBS:\n",
    "            print('{} already exists, updating.'.format(job_name))\n",
    "            update_job(job_name, job)\n",
    "        else:\n",
    "            print('creating job: {}'.format(job_name))\n",
    "            create_job(job_name, job)"
   ]
  }
 ],
 "metadata": {
  "kernelspec": {
   "display_name": "Python 3",
   "language": "python",
   "name": "python3"
  },
  "language_info": {
   "codemirror_mode": {
    "name": "ipython",
    "version": 3
   },
   "file_extension": ".py",
   "mimetype": "text/x-python",
   "name": "python",
   "nbconvert_exporter": "python",
   "pygments_lexer": "ipython3",
   "version": "3.5.1"
  }
 },
 "nbformat": 4,
 "nbformat_minor": 0
}
