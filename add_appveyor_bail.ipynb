{
 "cells": [
  {
   "cell_type": "code",
   "execution_count": null,
   "metadata": {
    "collapsed": false
   },
   "outputs": [],
   "source": [
    "import os\n",
    "import subprocess\n",
    "from functools import partial\n",
    "from utils import travis_op, appveyor_op, apply_to_all_projects\n",
    "\n",
    "\n",
    "NEW_COMMAND = (\n",
    "'''\n",
    "# If there is a newer build queued for the same PR, cancel this one.\n",
    "# The AppVeyor 'rollout builds' option is supposed to serve the same\n",
    "# purpose but it is problematic because it tends to cancel builds pushed\n",
    "# directly to master instead of just PR builds (or the converse).\n",
    "# credits: JuliaLang developers.\n",
    "- ps: if ($env:APPVEYOR_PULL_REQUEST_NUMBER -and $env:APPVEYOR_BUILD_NUMBER -ne ((Invoke-RestMethod `\n",
    "    https://ci.appveyor.com/api/projects/$env:APPVEYOR_ACCOUNT_NAME/$env:APPVEYOR_PROJECT_SLUG/history?recordsNumber=50).builds | `\n",
    "    Where-Object pullRequestId -eq $env:APPVEYOR_PULL_REQUEST_NUMBER)[0].buildNumber) { `\n",
    "      throw \"There are newer queued builds for this pull request, failing early.\" }''')\n",
    "\n",
    "working_dir = '/Users/jab08/_bump_condaci'\n",
    "        \n",
    "def add_new_command_to_string(string):\n",
    "    if NEW_COMMAND in string:\n",
    "        print('already has command, skipping')\n",
    "        return string\n",
    "    else:\n",
    "        before, after = string.split('init:')\n",
    "        new_string = before + 'init:' + NEW_COMMAND + after\n",
    "        return new_string\n",
    "\n",
    "appveyor_add_command = partial(appveyor_op, add_new_command_to_string)\n",
    "\n",
    "def bumps_repo(repo_dir):\n",
    "    os.chdir(repo_dir)\n",
    "    did_bump_appveyor = appveyor_add_command(repo_dir)\n",
    "    if did_bump_appveyor:\n",
    "        print(subprocess.check_output(['git', 'commit', '-am', 'bail AppVeyor builds if newer PR bulid added']))\n",
    "        print(subprocess.check_output(['git', 'push', 'origin', 'master']))\n",
    "    else:\n",
    "        print('{} is already up to date'.format(repo_dir))"
   ]
  },
  {
   "cell_type": "code",
   "execution_count": null,
   "metadata": {
    "collapsed": false,
    "scrolled": false
   },
   "outputs": [],
   "source": [
    "apply_to_all_projects(working_dir, bump_repo)"
   ]
  }
 ],
 "metadata": {
  "kernelspec": {
   "display_name": "Python 2",
   "language": "python",
   "name": "python2"
  },
  "language_info": {
   "codemirror_mode": {
    "name": "ipython",
    "version": 2
   },
   "file_extension": ".py",
   "mimetype": "text/x-python",
   "name": "python",
   "nbconvert_exporter": "python",
   "pygments_lexer": "ipython2",
   "version": "2.7.11"
  }
 },
 "nbformat": 4,
 "nbformat_minor": 0
}
